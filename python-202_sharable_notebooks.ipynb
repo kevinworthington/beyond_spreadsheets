{
 "cells": [
  {
   "cell_type": "code",
   "execution_count": 1,
   "id": "9079d69d-3a4c-4a5e-ba48-961e1d948ea6",
   "metadata": {},
   "outputs": [
    {
     "name": "stderr",
     "output_type": "stream",
     "text": [
      "UsageError: Line magic function `%%capture` not found.\n"
     ]
    }
   ],
   "source": [
    "# make sure we have pandas\n",
    "%%capture\n",
    "!pip3 install pandas"
   ]
  },
  {
   "cell_type": "code",
   "execution_count": 2,
   "id": "c900f4c7-c265-4606-9b6a-61c3048025bc",
   "metadata": {},
   "outputs": [],
   "source": [
    "# import pandas with alias and other libraries allowing for loading of json data\n",
    "import pandas as pd\n",
    "import urllib.request,json"
   ]
  },
  {
   "cell_type": "code",
   "execution_count": 3,
   "id": "d7dfae77-f816-4540-9af7-c0d898174331",
   "metadata": {},
   "outputs": [],
   "source": [
    "#declare paths to external files online\n",
    "building_footprints_path=\"https://services1.arcgis.com/KNdRU5cN6ENqCTjk/arcgis/rest/services/CSU_Building_Footprints/FeatureServer/0//query?where=1%3D1&objectIds=&time=&geometry=&geometryType=esriGeometryEnvelope&inSR=&spatialRel=esriSpatialRelIntersects&resultType=none&distance=0.0&units=esriSRUnit_Meter&relationParam=&returnGeodetic=false&outFields=*&returnGeometry=true&returnCentroid=false&featureEncoding=esriDefault&multipatchOption=xyFootprint&maxAllowableOffset=&geometryPrecision=&outSR=&defaultSR=&datumTransformation=&applyVCSProjection=false&returnIdsOnly=false&returnUniqueIdsOnly=false&returnCountOnly=false&returnExtentOnly=false&returnQueryGeometry=false&returnDistinctValues=false&cacheHint=false&orderByFields=&groupByFieldsForStatistics=&outStatistics=&having=&resultOffset=&resultRecordCount=&returnZ=false&returnM=false&returnExceededLimitFeatures=true&quantizationParameters=&sqlFormat=none&f=pgeojson&token=\"\n",
    "haunted_csu_path=\"https://docs.google.com/spreadsheets/d/e/2PACX-1vTilTLQU-L6FRT75GIw_TT0SMWa7b3QHqWiY4HCBx_MGZcPyYb_NXKpdv7DBhCEtkAW-GZW9XP6zazv/pub?gid=1226537332&single=true&output=csv\"\n",
    "# for reference - here is a file will all the building histories\n",
    "# building_histories_path=\"https://docs.google.com/spreadsheets/d/e/2PACX-1vTilTLQU-L6FRT75GIw_TT0SMWa7b3QHqWiY4HCBx_MGZcPyYb_NXKpdv7DBhCEtkAW-GZW9XP6zazv/pub?gid=1626181908&single=true&output=csv,csv\""
   ]
  },
  {
   "cell_type": "code",
   "execution_count": 4,
   "id": "0f2d2123-e85b-4e59-a6b8-b1ad6613a0fe",
   "metadata": {},
   "outputs": [
    {
     "data": {
      "text/html": [
       "<div>\n",
       "<style scoped>\n",
       "    .dataframe tbody tr th:only-of-type {\n",
       "        vertical-align: middle;\n",
       "    }\n",
       "\n",
       "    .dataframe tbody tr th {\n",
       "        vertical-align: top;\n",
       "    }\n",
       "\n",
       "    .dataframe thead th {\n",
       "        text-align: right;\n",
       "    }\n",
       "</style>\n",
       "<table border=\"1\" class=\"dataframe\">\n",
       "  <thead>\n",
       "    <tr style=\"text-align: right;\">\n",
       "      <th></th>\n",
       "      <th>Name</th>\n",
       "      <th>Description</th>\n",
       "      <th>Images</th>\n",
       "      <th>Reference</th>\n",
       "    </tr>\n",
       "  </thead>\n",
       "  <tbody>\n",
       "    <tr>\n",
       "      <th>0</th>\n",
       "      <td>Old Main</td>\n",
       "      <td>Mysteriously burned down overnight on May 8, 1...</td>\n",
       "      <td>https://libapps.s3.amazonaws.com/accounts/1539...</td>\n",
       "      <td>https://source.colostate.edu/hallowed-haunted-...</td>\n",
       "    </tr>\n",
       "    <tr>\n",
       "      <th>1</th>\n",
       "      <td>Johnson Hall</td>\n",
       "      <td>Once the location of the first Student Union c...</td>\n",
       "      <td>https://libapps.s3.amazonaws.com/accounts/1539...</td>\n",
       "      <td>https://source.colostate.edu/hallowed-haunted-...</td>\n",
       "    </tr>\n",
       "    <tr>\n",
       "      <th>2</th>\n",
       "      <td>Student Services Building</td>\n",
       "      <td>Built in 1948, and formally known as the Braid...</td>\n",
       "      <td>https://libapps.s3.amazonaws.com/accounts/1539...</td>\n",
       "      <td>https://source.colostate.edu/hallowed-haunted-...</td>\n",
       "    </tr>\n",
       "    <tr>\n",
       "      <th>3</th>\n",
       "      <td>Ammons Hall</td>\n",
       "      <td>Originally the female Recreation Center at the...</td>\n",
       "      <td>https://archives.mountainscholar.org/digital/a...</td>\n",
       "      <td>https://source.colostate.edu/hallowed-haunted-...</td>\n",
       "    </tr>\n",
       "  </tbody>\n",
       "</table>\n",
       "</div>"
      ],
      "text/plain": [
       "                        Name  \\\n",
       "0                   Old Main   \n",
       "1               Johnson Hall   \n",
       "2  Student Services Building   \n",
       "3                Ammons Hall   \n",
       "\n",
       "                                         Description  \\\n",
       "0  Mysteriously burned down overnight on May 8, 1...   \n",
       "1  Once the location of the first Student Union c...   \n",
       "2  Built in 1948, and formally known as the Braid...   \n",
       "3  Originally the female Recreation Center at the...   \n",
       "\n",
       "                                              Images  \\\n",
       "0  https://libapps.s3.amazonaws.com/accounts/1539...   \n",
       "1  https://libapps.s3.amazonaws.com/accounts/1539...   \n",
       "2  https://libapps.s3.amazonaws.com/accounts/1539...   \n",
       "3  https://archives.mountainscholar.org/digital/a...   \n",
       "\n",
       "                                           Reference  \n",
       "0  https://source.colostate.edu/hallowed-haunted-...  \n",
       "1  https://source.colostate.edu/hallowed-haunted-...  \n",
       "2  https://source.colostate.edu/hallowed-haunted-...  \n",
       "3  https://source.colostate.edu/hallowed-haunted-...  "
      ]
     },
     "execution_count": 4,
     "metadata": {},
     "output_type": "execute_result"
    }
   ],
   "source": [
    "# load in the haunted building spreadsheet\n",
    "haunted_csu=pd.read_csv(haunted_csu_path)\n",
    "haunted_csu"
   ]
  },
  {
   "cell_type": "code",
   "execution_count": 5,
   "id": "18b1ea9b-ce55-4ac1-92cd-86c85b95347d",
   "metadata": {},
   "outputs": [],
   "source": [
    "# load in a geojson file with CSU building footprints\n",
    "with urllib.request.urlopen(building_footprints_path) as url:\n",
    "    building_footprints = json.load(url)"
   ]
  },
  {
   "cell_type": "code",
   "execution_count": 6,
   "id": "70be2621-8b2d-42ec-8f87-45eb98a7a46c",
   "metadata": {},
   "outputs": [],
   "source": [
    "# create a subset of the building footprints that are haunted\n",
    "subset={'type': 'FeatureCollection','features': []}\n",
    "for feature in building_footprints[\"features\"]:\n",
    "    # print(features[\"properties\"]['NAME_LC'])\n",
    "    for index, haunted in haunted_csu.iterrows():\n",
    "        if (haunted[\"Name\"]==feature[\"properties\"]['NAME_LC']):\n",
    "            subset[\"features\"].append(feature)"
   ]
  },
  {
   "cell_type": "code",
   "execution_count": 7,
   "id": "564b62d9-46ed-425a-a992-9ad7f7ab7388",
   "metadata": {},
   "outputs": [
    {
     "name": "stderr",
     "output_type": "stream",
     "text": [
      "UsageError: Line magic function `%%capture` not found.\n"
     ]
    }
   ],
   "source": [
    "# we'll now start creating a map\n",
    "# ref: https://carpentries-incubator.github.io/jupyter_maps/01-introduction/index.html\n",
    "# start by installing the web-map library\n",
    "%%capture\n",
    "!pip3 install ipyleaflet"
   ]
  },
  {
   "cell_type": "code",
   "execution_count": 8,
   "id": "3ed63978-f820-48cb-a6aa-b3e81c787f03",
   "metadata": {},
   "outputs": [],
   "source": [
    "# import the web-map library and a jupyter widges for displaying a popup with HTMl\n",
    "from ipyleaflet import Map, GeoJSON\n",
    "from ipywidgets import HTML"
   ]
  },
  {
   "cell_type": "code",
   "execution_count": 9,
   "id": "336f66c4-47e0-42b5-bf1e-f737903e2160",
   "metadata": {},
   "outputs": [
    {
     "name": "stderr",
     "output_type": "stream",
     "text": [
      "UsageError: Line magic function `%%capture` not found.\n"
     ]
    }
   ],
   "source": [
    "# to diaplay an embeded web-map a couple of extensions are required\n",
    "#note - you will need to refresh the notebook to load in the javascript\n",
    "%%capture\n",
    "!jupyter labextension install @jupyter-widgets/jupyterlab-manager\n",
    "!jupyter labextension install jupyter-leaflet"
   ]
  },
  {
   "cell_type": "code",
   "execution_count": 10,
   "id": "ee670081-4989-4af7-9c45-3b7608afa83a",
   "metadata": {},
   "outputs": [
    {
     "data": {
      "application/vnd.jupyter.widget-view+json": {
       "model_id": "8ead61e695d7416387d7da7046784cdd",
       "version_major": 2,
       "version_minor": 0
      },
      "text/plain": [
       "Map(center=[40.5762663, -105.0816224], controls=(ZoomControl(options=['position', 'zoom_in_text', 'zoom_in_tit…"
      ]
     },
     "metadata": {},
     "output_type": "display_data"
    }
   ],
   "source": [
    "# create a map object, centered over out regio\n",
    "map = Map(center = (40.5762663,-105.0816224,), zoom = 16, min_zoom = 1, max_zoom = 20)\n",
    "\n",
    "# create a geojson layer\n",
    "geo_json = GeoJSON(\n",
    "    data=subset,\n",
    "    style={\n",
    "        'color': 'green','opacity': 1, 'dashArray': '9', 'fillOpacity': 0.2, 'weight': 2\n",
    "    },\n",
    "    hover_style={\n",
    "        'color': 'white', 'dashArray': '0', 'fillOpacity': 0.5\n",
    "    },popup=HTML(\"boo\")\n",
    ")\n",
    "#add the layer\n",
    "map.add_layer(geo_json)\n",
    "# show the map\n",
    "display(map)\n"
   ]
  },
  {
   "cell_type": "code",
   "execution_count": null,
   "id": "b064eba9-4340-4a7e-a56e-4618343c8ee5",
   "metadata": {},
   "outputs": [],
   "source": []
  }
 ],
 "metadata": {
  "kernelspec": {
   "display_name": "Python 3 (ipykernel)",
   "language": "python",
   "name": "python3"
  },
  "language_info": {
   "codemirror_mode": {
    "name": "ipython",
    "version": 3
   },
   "file_extension": ".py",
   "mimetype": "text/x-python",
   "name": "python",
   "nbconvert_exporter": "python",
   "pygments_lexer": "ipython3",
   "version": "3.11.4"
  }
 },
 "nbformat": 4,
 "nbformat_minor": 5
}
